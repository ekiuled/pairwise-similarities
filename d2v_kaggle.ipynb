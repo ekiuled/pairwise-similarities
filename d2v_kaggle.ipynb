{
 "metadata": {
  "language_info": {
   "codemirror_mode": {
    "name": "ipython",
    "version": 3
   },
   "file_extension": ".py",
   "mimetype": "text/x-python",
   "name": "python",
   "nbconvert_exporter": "python",
   "pygments_lexer": "ipython3",
   "version": "3.8.5-final"
  },
  "orig_nbformat": 2,
  "kernelspec": {
   "name": "python_defaultSpec_1599334102697",
   "display_name": "Python 3.8.5 64-bit"
  }
 },
 "nbformat": 4,
 "nbformat_minor": 2,
 "cells": [
  {
   "cell_type": "code",
   "execution_count": 1,
   "metadata": {
    "tags": []
   },
   "outputs": [
    {
     "output_type": "stream",
     "name": "stderr",
     "text": "Using TensorFlow backend.\nThreshold = 0.7149, train accuracy = 0.9278\n"
    },
    {
     "output_type": "execute_result",
     "data": {
      "text/plain": "{'accuracy': 0.9524456521739131,\n 'f1': 0.9517241379310344,\n 'precision': 0.9663865546218487,\n 'roc': 0.9904374409262761,\n 'tp': 345,\n 'tn': 356,\n 'fp': 12,\n 'fn': 23}"
     },
     "metadata": {},
     "execution_count": 1
    }
   ],
   "source": [
    "from metrics import metrics\n",
    "from similarities.d2vk import D2VKSimilarity\n",
    "metrics.train_test(metrics.get_metrics)('data/train.csv', 'data/test.csv', D2VKSimilarity(), True, 'D2VK')"
   ]
  },
  {
   "cell_type": "code",
   "execution_count": 2,
   "metadata": {},
   "outputs": [
    {
     "output_type": "execute_result",
     "data": {
      "text/plain": "{'accuracy': 0.96875,\n 'precision': 0.9434447300771208,\n 'f1': 0.9696169088507265,\n 'tp': 367,\n 'tn': 346,\n 'fp': 22,\n 'fn': 1}"
     },
     "metadata": {},
     "execution_count": 2
    }
   ],
   "source": [
    "from metrics import x_feature_metrics\n",
    "\n",
    "x_feature_metrics.lr_evaluate('data/train.csv', 'data/test.csv', D2VKSimilarity(), 'D2VK')"
   ]
  },
  {
   "cell_type": "code",
   "execution_count": 1,
   "metadata": {
    "tags": []
   },
   "outputs": [
    {
     "output_type": "stream",
     "name": "stderr",
     "text": "Using TensorFlow backend.\nD2VK 464\n"
    }
   ],
   "source": [
    "from helpers.similarity_generator import get_algorithm_by_name\n",
    "from pipeline import ml\n",
    "import pandas as pd\n",
    "\n",
    "name = 'D2VK'\n",
    "alg = get_algorithm_by_name(name, True)\n",
    "model = ml.logistic_regression_train('data/train.csv', alg)\n",
    "X, _ = ml.extract_features('data/unlabeled/junit4.csv', alg)\n",
    "\n",
    "predictions = model.predict(X)\n",
    "scores = model.predict_proba(X)\n",
    "scores = scores[predictions == 1]\n",
    "scores = scores[:, 1]\n",
    "\n",
    "df = pd.read_csv('data/unlabeled/junit4.csv', index_col=0, na_filter=False)\n",
    "df_up = df[predictions == 1]\n",
    "df_up.drop(columns=['label', 'name1', 'name2'], inplace=True)\n",
    "df_up.insert(4, 'score', scores)\n",
    "df_up.sort_values(by='score', ascending=False, inplace=True)\n",
    "df_up.to_csv('data/up/scores/' + name + '.csv')\n",
    "\n",
    "print(name, len(df_up.index))"
   ]
  },
  {
   "cell_type": "code",
   "execution_count": 2,
   "metadata": {},
   "outputs": [
    {
     "output_type": "execute_result",
     "data": {
      "text/plain": "       comment1  comment2  meta1  meta2  score\nlabel                                         \n-1          204       204    204    204    204\n 0           86        86     86     86     86\n 1          174       174    174    174    174",
      "text/html": "<div>\n<style scoped>\n    .dataframe tbody tr th:only-of-type {\n        vertical-align: middle;\n    }\n\n    .dataframe tbody tr th {\n        vertical-align: top;\n    }\n\n    .dataframe thead th {\n        text-align: right;\n    }\n</style>\n<table border=\"1\" class=\"dataframe\">\n  <thead>\n    <tr style=\"text-align: right;\">\n      <th></th>\n      <th>comment1</th>\n      <th>comment2</th>\n      <th>meta1</th>\n      <th>meta2</th>\n      <th>score</th>\n    </tr>\n    <tr>\n      <th>label</th>\n      <th></th>\n      <th></th>\n      <th></th>\n      <th></th>\n      <th></th>\n    </tr>\n  </thead>\n  <tbody>\n    <tr>\n      <th>-1</th>\n      <td>204</td>\n      <td>204</td>\n      <td>204</td>\n      <td>204</td>\n      <td>204</td>\n    </tr>\n    <tr>\n      <th>0</th>\n      <td>86</td>\n      <td>86</td>\n      <td>86</td>\n      <td>86</td>\n      <td>86</td>\n    </tr>\n    <tr>\n      <th>1</th>\n      <td>174</td>\n      <td>174</td>\n      <td>174</td>\n      <td>174</td>\n      <td>174</td>\n    </tr>\n  </tbody>\n</table>\n</div>"
     },
     "metadata": {},
     "execution_count": 2
    }
   ],
   "source": [
    "import pickle\n",
    "with open('data/up/accepted/all.pkl', 'rb') as f:\n",
    "    all = pickle.load(f)\n",
    "import pandas as pd\n",
    "df = pd.read_csv('data/up/scores/D2VK.csv', index_col=0)\n",
    "labels = [int(i in all) for i in df.index]\n",
    "df.insert(5, 'label', labels)\n",
    "\n",
    "names = ['LCS', 'COS', 'LEV', 'LSH', 'WMD', 'SiamX']\n",
    "df_all = pd.concat([pd.read_csv('data/up/scores/'+name+'.csv', index_col=0) for name in names]).drop(columns=['score']).drop_duplicates()\n",
    "ix_all = df_all.index.values\n",
    "ix = df.index.values\n",
    "import numpy as np\n",
    "unique = np.setdiff1d(ix, ix_all)\n",
    "df.loc[unique, 'label'] = -1\n",
    "\n",
    "df.to_csv('data/up/D2VK_labeled.csv')\n",
    "df.groupby('label').count()"
   ]
  }
 ]
}