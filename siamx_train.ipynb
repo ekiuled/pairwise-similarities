{
 "metadata": {
  "language_info": {
   "codemirror_mode": {
    "name": "ipython",
    "version": 3
   },
   "file_extension": ".py",
   "mimetype": "text/x-python",
   "name": "python",
   "nbconvert_exporter": "python",
   "pygments_lexer": "ipython3",
   "version": 3
  },
  "orig_nbformat": 2,
  "kernelspec": {
   "name": "python_defaultSpec_1596741542838",
   "display_name": "Python 3.8.3 64-bit"
  }
 },
 "nbformat": 4,
 "nbformat_minor": 2,
 "cells": [
  {
   "cell_type": "code",
   "execution_count": 17,
   "metadata": {},
   "outputs": [],
   "source": [
    "import pandas as pd\n",
    "df_siamx = pd.read_csv('data/up/SiamX_sampled.csv', index_col=0)"
   ]
  },
  {
   "cell_type": "code",
   "execution_count": 22,
   "metadata": {},
   "outputs": [],
   "source": [
    "df_train = pd.read_csv('data/train.csv', index_col=0)\n",
    "df_train = df_train.sample(len(df_siamx.index))"
   ]
  },
  {
   "cell_type": "code",
   "execution_count": 23,
   "metadata": {},
   "outputs": [],
   "source": [
    "df = pd.concat([df_siamx, df_train])"
   ]
  },
  {
   "cell_type": "code",
   "execution_count": 32,
   "metadata": {
    "tags": []
   },
   "outputs": [],
   "source": [
    "from helpers import similarity_generator\n",
    "siamx = similarity_generator.get_algorithm_by_name('SiamX', True)\n",
    "comments1, comments2, word_counts, name_similarities = siamx.features(df)\n",
    "labels = df['label'].to_numpy()"
   ]
  },
  {
   "cell_type": "code",
   "execution_count": 33,
   "metadata": {
    "tags": []
   },
   "outputs": [
    {
     "output_type": "stream",
     "name": "stdout",
     "text": "Train on 783 samples, validate on 87 samples\nEpoch 1/20\n783/783 [==============================] - 6s 7ms/step - loss: 0.2045 - acc: 0.9285 - val_loss: 0.0405 - val_acc: 0.9885\nEpoch 2/20\n783/783 [==============================] - 1s 828us/step - loss: 0.1386 - acc: 0.9553 - val_loss: 0.0409 - val_acc: 0.9770\nEpoch 3/20\n783/783 [==============================] - 1s 788us/step - loss: 0.1097 - acc: 0.9693 - val_loss: 0.0739 - val_acc: 0.9770\nEpoch 4/20\n783/783 [==============================] - 1s 814us/step - loss: 0.0953 - acc: 0.9681 - val_loss: 0.1049 - val_acc: 0.9770\n"
    },
    {
     "output_type": "execute_result",
     "data": {
      "text/plain": "<keras.callbacks.callbacks.History at 0x7f477a6aac40>"
     },
     "metadata": {},
     "execution_count": 33
    }
   ],
   "source": [
    "from keras.callbacks import EarlyStopping\n",
    "es = EarlyStopping(patience=3)\n",
    "siamx.model.fit([comments1, comments2, word_counts, name_similarities], labels, epochs=siamx.epochs, validation_split=0.1, callbacks=[es])"
   ]
  },
  {
   "cell_type": "code",
   "execution_count": 35,
   "metadata": {
    "tags": []
   },
   "outputs": [
    {
     "output_type": "stream",
     "name": "stdout",
     "text": "Threshold = 0.5851, train accuracy = 0.9897\n"
    }
   ],
   "source": [
    "siamx.model.save('cache/models/siamx2')\n",
    "super(type(siamx), siamx).train(df, labels, True, 'SiamX2')"
   ]
  },
  {
   "cell_type": "code",
   "execution_count": 36,
   "metadata": {},
   "outputs": [
    {
     "output_type": "execute_result",
     "data": {
      "text/plain": "{'accuracy': 0.9429347826086957,\n 'f1': 0.9445910290237467,\n 'precision': 0.9179487179487179,\n 'roc': 0.9803579867674859,\n 'tp': 358,\n 'tn': 336,\n 'fp': 32,\n 'fn': 10}"
     },
     "metadata": {},
     "execution_count": 36
    }
   ],
   "source": [
    "from metrics import metrics\n",
    "df_test = pd.read_csv('data/test.csv', index_col=0)\n",
    "y_pred = siamx.run_similarity(df_test)\n",
    "y_test = df_test['label'].to_numpy()\n",
    "\n",
    "metrics.get_metrics(siamx, y_test, y_pred)"
   ]
  },
  {
   "cell_type": "code",
   "execution_count": 37,
   "metadata": {},
   "outputs": [
    {
     "output_type": "execute_result",
     "data": {
      "text/plain": "{'accuracy': 0.9239130434782609,\n 'f1': 0.9270833333333334,\n 'precision': 0.89,\n 'roc': 0.9700717745746692,\n 'tp': 356,\n 'tn': 324,\n 'fp': 44,\n 'fn': 12}"
     },
     "metadata": {},
     "execution_count": 37
    }
   ],
   "source": [
    "siamx = similarity_generator.get_algorithm_by_name('SiamX', True)\n",
    "df_test = pd.read_csv('data/test.csv', index_col=0)\n",
    "y_pred = siamx.run_similarity(df_test)\n",
    "y_test = df_test['label'].to_numpy()\n",
    "metrics.get_metrics(siamx, y_test, y_pred)"
   ]
  },
  {
   "cell_type": "code",
   "execution_count": 1,
   "metadata": {
    "tags": []
   },
   "outputs": [
    {
     "output_type": "stream",
     "name": "stdout",
     "text": "+-------------+------------+--------+-------------+------+------+------+------+\n| Algorithm   |   Accuracy |     F1 |   Precision |   TP |   TN |   FP |   FN |\n+=============+============+========+=============+======+======+======+======+\n| SiamX       |     0.9239 | 0.9271 |      0.8900 |  356 |  324 |   44 |   12 |\n+-------------+------------+--------+-------------+------+------+------+------+\n| SiamX +     |     0.9429 | 0.9446 |      0.9179 |  358 |  336 |   32 |   10 |\n+-------------+------------+--------+-------------+------+------+------+------+\n"
    }
   ],
   "source": [
    "from tabulate import tabulate\n",
    "\n",
    "siamx_d = {'accuracy': 0.9239130434782609,\n",
    " 'f1': 0.9270833333333334,\n",
    " 'precision': 0.89,\n",
    " 'roc': 0.9700717745746692,\n",
    " 'tp': 356,\n",
    " 'tn': 324,\n",
    " 'fp': 44,\n",
    " 'fn': 12}\n",
    "siamx2_d = {'accuracy': 0.9429347826086957,\n",
    " 'f1': 0.9445910290237467,\n",
    " 'precision': 0.9179487179487179,\n",
    " 'roc': 0.9803579867674859,\n",
    " 'tp': 358,\n",
    " 'tn': 336,\n",
    " 'fp': 32,\n",
    " 'fn': 10}\n",
    "\n",
    "table = []\n",
    "headers = ['Algorithm', 'Accuracy', 'F1', 'Precision', 'TP', 'TN', 'FP', 'FN']\n",
    "name = 'SiamX'\n",
    "for d, n in (siamx_d, name), (siamx2_d, name+' +'):\n",
    "    table.append((n, d['accuracy'], d['f1'], d['precision'], d['tp'], d['tn'], d['fp'], d['fn']))\n",
    "print(tabulate(table, headers, tablefmt='grid', floatfmt='.4f'))"
   ]
  },
  {
   "cell_type": "code",
   "execution_count": 6,
   "metadata": {
    "tags": []
   },
   "outputs": [
    {
     "output_type": "stream",
     "name": "stdout",
     "text": "SiamX2 268\n"
    }
   ],
   "source": [
    "import pandas as pd\n",
    "import numpy as np\n",
    "from helpers import similarity_generator\n",
    "from keras.models import load_model\n",
    "\n",
    "df = pd.read_csv('data/unlabeled/junit4.csv', index_col=0, na_filter=False)\n",
    "\n",
    "name = 'SiamX2'\n",
    "alg = similarity_generator.get_algorithm_by_name('SiamX', True)\n",
    "alg.model = load_model('cache/models/siamx2')\n",
    "super(type(alg), alg).load('SiamX2')\n",
    "\n",
    "scores = alg.run_similarity(df)\n",
    "predictions = alg.predict(scores)\n",
    "scores = scores[predictions == 1]\n",
    "df_up = df[predictions == 1]\n",
    "df_up.drop(columns=['label', 'name1', 'name2'], inplace=True)\n",
    "df_up.insert(4, 'score', scores)\n",
    "df_up.sort_values(by='score', ascending=False, inplace=True)\n",
    "df_up.to_csv('data/up/scores/' + name + '.csv')\n",
    "\n",
    "print(name, len(df_up.index))"
   ]
  },
  {
   "cell_type": "code",
   "execution_count": 8,
   "metadata": {},
   "outputs": [],
   "source": [
    "import pickle\n",
    "with open('data/up/accepted/all.pkl', 'rb') as f:\n",
    "    all = pickle.load(f)\n",
    "import pandas as pd\n",
    "df_siam = pd.read_csv('data/up/scores/SiamX2.csv', index_col=0)\n",
    "labels = [int(i in all) for i in df_siam.index]\n",
    "df_siam.insert(5, 'label', labels)\n",
    "df_siam.to_csv('data/up/SiamX2_labeled.csv')"
   ]
  },
  {
   "cell_type": "code",
   "execution_count": 13,
   "metadata": {},
   "outputs": [
    {
     "output_type": "execute_result",
     "data": {
      "text/plain": "       comment1  comment2  meta1  meta2  score\nlabel                                         \n0           107       107    107    107    107\n1           161       161    161    161    161",
      "text/html": "<div>\n<style scoped>\n    .dataframe tbody tr th:only-of-type {\n        vertical-align: middle;\n    }\n\n    .dataframe tbody tr th {\n        vertical-align: top;\n    }\n\n    .dataframe thead th {\n        text-align: right;\n    }\n</style>\n<table border=\"1\" class=\"dataframe\">\n  <thead>\n    <tr style=\"text-align: right;\">\n      <th></th>\n      <th>comment1</th>\n      <th>comment2</th>\n      <th>meta1</th>\n      <th>meta2</th>\n      <th>score</th>\n    </tr>\n    <tr>\n      <th>label</th>\n      <th></th>\n      <th></th>\n      <th></th>\n      <th></th>\n      <th></th>\n    </tr>\n  </thead>\n  <tbody>\n    <tr>\n      <th>0</th>\n      <td>107</td>\n      <td>107</td>\n      <td>107</td>\n      <td>107</td>\n      <td>107</td>\n    </tr>\n    <tr>\n      <th>1</th>\n      <td>161</td>\n      <td>161</td>\n      <td>161</td>\n      <td>161</td>\n      <td>161</td>\n    </tr>\n  </tbody>\n</table>\n</div>"
     },
     "metadata": {},
     "execution_count": 13
    }
   ],
   "source": [
    "df_siam.groupby('label').count()"
   ]
  },
  {
   "cell_type": "code",
   "execution_count": 1,
   "metadata": {},
   "outputs": [],
   "source": [
    "import pandas as pd\n",
    "df_dict = {}\n",
    "names = ['LCS', 'COS', 'LEV', 'LSH', 'WMD', 'SiamX']\n",
    "df = pd.concat([pd.read_csv('data/up/scores/'+name+'.csv', index_col=0) for name in names]).drop(columns=['score']).drop_duplicates()\n",
    "ix = df.index.values\n",
    "df_siamx2 = pd.read_csv('data/up/scores/SiamX2.csv', index_col=0)\n",
    "ix_siamx2 = df_siamx2.index.values"
   ]
  },
  {
   "cell_type": "code",
   "execution_count": 2,
   "metadata": {},
   "outputs": [],
   "source": [
    "import numpy as np\n",
    "unique_siamx2 = np.setdiff1d(ix_siamx2, ix)"
   ]
  },
  {
   "cell_type": "code",
   "execution_count": 4,
   "metadata": {},
   "outputs": [
    {
     "output_type": "execute_result",
     "data": {
      "text/plain": "                                                 comment1  \\\n33657   The Theories runner allows to test a certain f...   \n47829   Returns, efficiently, all the non-overridden m...   \n78977   # Annotation for a method which provides param...   \n79428   # Method that returns the index of the paramet...   \n123585  Creates a Filter.\\n @param filterFactoryFqcn T...   \n125319  The Test annotation tells JUnit that the publi...   \n125475  The Test annotation tells JUnit that the publi...   \n125532  The Test annotation tells JUnit that the publi...   \n132396  Asserts that two arrays are equal, according t...   \n132398  Asserts that two arrays are equal, according t...   \n132400  Asserts that two arrays are equal, according t...   \n132401  Asserts that two arrays are equal, according t...   \n132436  Asserts that two arrays are equal, according t...   \n132440  Asserts that two arrays are equal, according t...   \n132444  Asserts that two arrays are equal, according t...   \n132472  Asserts that two arrays are equal, according t...   \n132478  Asserts that two arrays are equal, according t...   \n132479  Asserts that two arrays are equal, according t...   \n132488  Asserts that two arrays are equal, according t...   \n132490  Asserts that two arrays are equal, according t...   \n132495  Asserts that two arrays are equal, according t...   \n132649  Asserts that two arrays are equal, according t...   \n132650  Asserts that two arrays are equal, according t...   \n132652  Asserts that two arrays are equal, according t...   \n135457  Asserts that two objects are equal. If they ar...   \n135481  Asserts that two objects are equal. If they ar...   \n135483  Asserts that two objects are equal. If they ar...   \n135486  Asserts that two objects are equal. If they ar...   \n135490  Asserts that two objects are equal. If they ar...   \n135493  Asserts that two objects are equal. If they ar...   \n135510  Asserts that two objects are equal. If they ar...   \n135525  Asserts that two objects are equal. If they ar...   \n135545  Asserts that two objects are equal. If they ar...   \n135550  Asserts that two objects are equal. If they ar...   \n135719  Asserts that two objects are equal. If they ar...   \n142718  Runs the test case and collects the results in...   \n177169  Constructs a Failure with the given descriptio...   \n\n                                                 comment2  \\\n33657   Can not be instantiated outside org.junit.Comp...   \n47829   Returns the methods that run tests. Default im...   \n78977   # Annotation for fields of the test class whic...   \n79428   @return a ParametersRunnerFactory class (must ...   \n123585  Creates a org.junit.experimental.categories.Ca...   \n125319  A Test can be run and collect its results.\\n @...   \n125475  ...as the moon sets over the early morning Mer...   \n125532  Can not be instantiated outside org.junit.Comp...   \n132396  Asserts that two objects are not equals. If th...   \n132398  Asserts that two longs are not equals. If they...   \n132400  Asserts that two doubles are not equal to with...   \n132401  Asserts that two floats are not equal to withi...   \n132436  Asserts that two objects are equal. If they ar...   \n132440  Asserts that two doubles are equal concerning ...   \n132444  Asserts that two floats are equal concerning a...   \n132472  Asserts that two longs are equal. If they are ...   \n132478  Asserts that two doubles are equal to within a...   \n132479  Asserts that two floats are equal to within a ...   \n132488  Asserts that an object is null. If it is not, ...   \n132490  Asserts that two objects refer to the same obj...   \n132495  Asserts that two objects do not refer to the s...   \n132649  Asserts that two objects are equal. If they ar...   \n132650  Asserts that two doubles are equal concerning ...   \n132652  Asserts that two floats are equal concerning a...   \n135457  Asserts that two object arrays are equal. If t...   \n135481  Asserts that two byte arrays are equal. If the...   \n135483  Asserts that two char arrays are equal. If the...   \n135486  Asserts that two short arrays are equal. If th...   \n135490  Asserts that two int arrays are equal. If they...   \n135493  Asserts that two long arrays are equal. If the...   \n135510  Asserts that two object arrays are equal. If t...   \n135525  Asserts that two objects refer to the same obj...   \n135545  Asserts that two objects refer to the same obj...   \n135550  Asserts that two objects do not refer to the s...   \n135719  Asserts that two objects refer to the same obj...   \n142718  Run the tests for this runner.\\n @param notifi...   \n177169  Called when an atomic test flags that it assum...   \n\n                                                    meta1  \\\n33657   <!-- META {\"entityType\": \"Class\", \"entitySigna...   \n47829   <!-- META {\"entityType\": \"Method\", \"entitySign...   \n78977   <!-- META {\"entityType\": \"Annotation\", \"entity...   \n79428   <!-- META {\"entityType\": \"Annotation\", \"entity...   \n123585  <!-- META {\"entityType\": \"Method\", \"entitySign...   \n125319  <!-- META {\"entityType\": \"Annotation\", \"entity...   \n125475  <!-- META {\"entityType\": \"Annotation\", \"entity...   \n125532  <!-- META {\"entityType\": \"Annotation\", \"entity...   \n132396  <!-- META {\"entityType\": \"Method\", \"entitySign...   \n132398  <!-- META {\"entityType\": \"Method\", \"entitySign...   \n132400  <!-- META {\"entityType\": \"Method\", \"entitySign...   \n132401  <!-- META {\"entityType\": \"Method\", \"entitySign...   \n132436  <!-- META {\"entityType\": \"Method\", \"entitySign...   \n132440  <!-- META {\"entityType\": \"Method\", \"entitySign...   \n132444  <!-- META {\"entityType\": \"Method\", \"entitySign...   \n132472  <!-- META {\"entityType\": \"Method\", \"entitySign...   \n132478  <!-- META {\"entityType\": \"Method\", \"entitySign...   \n132479  <!-- META {\"entityType\": \"Method\", \"entitySign...   \n132488  <!-- META {\"entityType\": \"Method\", \"entitySign...   \n132490  <!-- META {\"entityType\": \"Method\", \"entitySign...   \n132495  <!-- META {\"entityType\": \"Method\", \"entitySign...   \n132649  <!-- META {\"entityType\": \"Method\", \"entitySign...   \n132650  <!-- META {\"entityType\": \"Method\", \"entitySign...   \n132652  <!-- META {\"entityType\": \"Method\", \"entitySign...   \n135457  <!-- META {\"entityType\": \"Method\", \"entitySign...   \n135481  <!-- META {\"entityType\": \"Method\", \"entitySign...   \n135483  <!-- META {\"entityType\": \"Method\", \"entitySign...   \n135486  <!-- META {\"entityType\": \"Method\", \"entitySign...   \n135490  <!-- META {\"entityType\": \"Method\", \"entitySign...   \n135493  <!-- META {\"entityType\": \"Method\", \"entitySign...   \n135510  <!-- META {\"entityType\": \"Method\", \"entitySign...   \n135525  <!-- META {\"entityType\": \"Method\", \"entitySign...   \n135545  <!-- META {\"entityType\": \"Method\", \"entitySign...   \n135550  <!-- META {\"entityType\": \"Method\", \"entitySign...   \n135719  <!-- META {\"entityType\": \"Method\", \"entitySign...   \n142718  <!-- META {\"entityType\": \"Method\", \"entitySign...   \n177169  <!-- META {\"entityType\": \"Method\", \"entitySign...   \n\n                                                    meta2     score  label  \n33657   <!-- META {\"entityType\": \"Method\", \"entitySign...  0.606557      0  \n47829   <!-- META {\"entityType\": \"Method\", \"entitySign...  0.753290      0  \n78977   <!-- META {\"entityType\": \"Annotation\", \"entity...  0.734076      0  \n79428   <!-- META {\"entityType\": \"Annotation\", \"entity...  0.603110      0  \n123585  <!-- META {\"entityType\": \"Method\", \"entitySign...  0.632071      0  \n125319  <!-- META {\"entityType\": \"Interface\", \"entityS...  0.606732      0  \n125475  <!-- META {\"entityType\": \"Method\", \"entitySign...  0.805489      0  \n125532  <!-- META {\"entityType\": \"Method\", \"entitySign...  0.678461      0  \n132396  <!-- META {\"entityType\": \"Method\", \"entitySign...  0.986025      0  \n132398  <!-- META {\"entityType\": \"Method\", \"entitySign...  0.781803      0  \n132400  <!-- META {\"entityType\": \"Method\", \"entitySign...  0.904039      0  \n132401  <!-- META {\"entityType\": \"Method\", \"entitySign...  0.904039      0  \n132436  <!-- META {\"entityType\": \"Method\", \"entitySign...  0.746993      0  \n132440  <!-- META {\"entityType\": \"Method\", \"entitySign...  0.945962      0  \n132444  <!-- META {\"entityType\": \"Method\", \"entitySign...  0.945962      0  \n132472  <!-- META {\"entityType\": \"Method\", \"entitySign...  0.873534      0  \n132478  <!-- META {\"entityType\": \"Method\", \"entitySign...  0.936256      0  \n132479  <!-- META {\"entityType\": \"Method\", \"entitySign...  0.936256      0  \n132488  <!-- META {\"entityType\": \"Method\", \"entitySign...  0.722914      0  \n132490  <!-- META {\"entityType\": \"Method\", \"entitySign...  0.994074      0  \n132495  <!-- META {\"entityType\": \"Method\", \"entitySign...  0.926994      0  \n132649  <!-- META {\"entityType\": \"Method\", \"entitySign...  0.746993      0  \n132650  <!-- META {\"entityType\": \"Method\", \"entitySign...  0.945962      0  \n132652  <!-- META {\"entityType\": \"Method\", \"entitySign...  0.945962      0  \n135457  <!-- META {\"entityType\": \"Method\", \"entitySign...  0.954917      0  \n135481  <!-- META {\"entityType\": \"Method\", \"entitySign...  0.995108      0  \n135483  <!-- META {\"entityType\": \"Method\", \"entitySign...  0.995286      0  \n135486  <!-- META {\"entityType\": \"Method\", \"entitySign...  0.994290      0  \n135490  <!-- META {\"entityType\": \"Method\", \"entitySign...  0.994135      0  \n135493  <!-- META {\"entityType\": \"Method\", \"entitySign...  0.995296      0  \n135510  <!-- META {\"entityType\": \"Method\", \"entitySign...  0.721091      0  \n135525  <!-- META {\"entityType\": \"Method\", \"entitySign...  0.741549      0  \n135545  <!-- META {\"entityType\": \"Method\", \"entitySign...  0.949772      0  \n135550  <!-- META {\"entityType\": \"Method\", \"entitySign...  0.615414      0  \n135719  <!-- META {\"entityType\": \"Method\", \"entitySign...  0.741549      0  \n142718  <!-- META {\"entityType\": \"Method\", \"entitySign...  0.661629      0  \n177169  <!-- META {\"entityType\": \"Method\", \"entitySign...  0.773690      0  ",
      "text/html": "<div>\n<style scoped>\n    .dataframe tbody tr th:only-of-type {\n        vertical-align: middle;\n    }\n\n    .dataframe tbody tr th {\n        vertical-align: top;\n    }\n\n    .dataframe thead th {\n        text-align: right;\n    }\n</style>\n<table border=\"1\" class=\"dataframe\">\n  <thead>\n    <tr style=\"text-align: right;\">\n      <th></th>\n      <th>comment1</th>\n      <th>comment2</th>\n      <th>meta1</th>\n      <th>meta2</th>\n      <th>score</th>\n      <th>label</th>\n    </tr>\n  </thead>\n  <tbody>\n    <tr>\n      <th>33657</th>\n      <td>The Theories runner allows to test a certain f...</td>\n      <td>Can not be instantiated outside org.junit.Comp...</td>\n      <td>&lt;!-- META {\"entityType\": \"Class\", \"entitySigna...</td>\n      <td>&lt;!-- META {\"entityType\": \"Method\", \"entitySign...</td>\n      <td>0.606557</td>\n      <td>0</td>\n    </tr>\n    <tr>\n      <th>47829</th>\n      <td>Returns, efficiently, all the non-overridden m...</td>\n      <td>Returns the methods that run tests. Default im...</td>\n      <td>&lt;!-- META {\"entityType\": \"Method\", \"entitySign...</td>\n      <td>&lt;!-- META {\"entityType\": \"Method\", \"entitySign...</td>\n      <td>0.753290</td>\n      <td>0</td>\n    </tr>\n    <tr>\n      <th>78977</th>\n      <td># Annotation for a method which provides param...</td>\n      <td># Annotation for fields of the test class whic...</td>\n      <td>&lt;!-- META {\"entityType\": \"Annotation\", \"entity...</td>\n      <td>&lt;!-- META {\"entityType\": \"Annotation\", \"entity...</td>\n      <td>0.734076</td>\n      <td>0</td>\n    </tr>\n    <tr>\n      <th>79428</th>\n      <td># Method that returns the index of the paramet...</td>\n      <td>@return a ParametersRunnerFactory class (must ...</td>\n      <td>&lt;!-- META {\"entityType\": \"Annotation\", \"entity...</td>\n      <td>&lt;!-- META {\"entityType\": \"Annotation\", \"entity...</td>\n      <td>0.603110</td>\n      <td>0</td>\n    </tr>\n    <tr>\n      <th>123585</th>\n      <td>Creates a Filter.\\n @param filterFactoryFqcn T...</td>\n      <td>Creates a org.junit.experimental.categories.Ca...</td>\n      <td>&lt;!-- META {\"entityType\": \"Method\", \"entitySign...</td>\n      <td>&lt;!-- META {\"entityType\": \"Method\", \"entitySign...</td>\n      <td>0.632071</td>\n      <td>0</td>\n    </tr>\n    <tr>\n      <th>125319</th>\n      <td>The Test annotation tells JUnit that the publi...</td>\n      <td>A Test can be run and collect its results.\\n @...</td>\n      <td>&lt;!-- META {\"entityType\": \"Annotation\", \"entity...</td>\n      <td>&lt;!-- META {\"entityType\": \"Interface\", \"entityS...</td>\n      <td>0.606732</td>\n      <td>0</td>\n    </tr>\n    <tr>\n      <th>125475</th>\n      <td>The Test annotation tells JUnit that the publi...</td>\n      <td>...as the moon sets over the early morning Mer...</td>\n      <td>&lt;!-- META {\"entityType\": \"Annotation\", \"entity...</td>\n      <td>&lt;!-- META {\"entityType\": \"Method\", \"entitySign...</td>\n      <td>0.805489</td>\n      <td>0</td>\n    </tr>\n    <tr>\n      <th>125532</th>\n      <td>The Test annotation tells JUnit that the publi...</td>\n      <td>Can not be instantiated outside org.junit.Comp...</td>\n      <td>&lt;!-- META {\"entityType\": \"Annotation\", \"entity...</td>\n      <td>&lt;!-- META {\"entityType\": \"Method\", \"entitySign...</td>\n      <td>0.678461</td>\n      <td>0</td>\n    </tr>\n    <tr>\n      <th>132396</th>\n      <td>Asserts that two arrays are equal, according t...</td>\n      <td>Asserts that two objects are not equals. If th...</td>\n      <td>&lt;!-- META {\"entityType\": \"Method\", \"entitySign...</td>\n      <td>&lt;!-- META {\"entityType\": \"Method\", \"entitySign...</td>\n      <td>0.986025</td>\n      <td>0</td>\n    </tr>\n    <tr>\n      <th>132398</th>\n      <td>Asserts that two arrays are equal, according t...</td>\n      <td>Asserts that two longs are not equals. If they...</td>\n      <td>&lt;!-- META {\"entityType\": \"Method\", \"entitySign...</td>\n      <td>&lt;!-- META {\"entityType\": \"Method\", \"entitySign...</td>\n      <td>0.781803</td>\n      <td>0</td>\n    </tr>\n    <tr>\n      <th>132400</th>\n      <td>Asserts that two arrays are equal, according t...</td>\n      <td>Asserts that two doubles are not equal to with...</td>\n      <td>&lt;!-- META {\"entityType\": \"Method\", \"entitySign...</td>\n      <td>&lt;!-- META {\"entityType\": \"Method\", \"entitySign...</td>\n      <td>0.904039</td>\n      <td>0</td>\n    </tr>\n    <tr>\n      <th>132401</th>\n      <td>Asserts that two arrays are equal, according t...</td>\n      <td>Asserts that two floats are not equal to withi...</td>\n      <td>&lt;!-- META {\"entityType\": \"Method\", \"entitySign...</td>\n      <td>&lt;!-- META {\"entityType\": \"Method\", \"entitySign...</td>\n      <td>0.904039</td>\n      <td>0</td>\n    </tr>\n    <tr>\n      <th>132436</th>\n      <td>Asserts that two arrays are equal, according t...</td>\n      <td>Asserts that two objects are equal. If they ar...</td>\n      <td>&lt;!-- META {\"entityType\": \"Method\", \"entitySign...</td>\n      <td>&lt;!-- META {\"entityType\": \"Method\", \"entitySign...</td>\n      <td>0.746993</td>\n      <td>0</td>\n    </tr>\n    <tr>\n      <th>132440</th>\n      <td>Asserts that two arrays are equal, according t...</td>\n      <td>Asserts that two doubles are equal concerning ...</td>\n      <td>&lt;!-- META {\"entityType\": \"Method\", \"entitySign...</td>\n      <td>&lt;!-- META {\"entityType\": \"Method\", \"entitySign...</td>\n      <td>0.945962</td>\n      <td>0</td>\n    </tr>\n    <tr>\n      <th>132444</th>\n      <td>Asserts that two arrays are equal, according t...</td>\n      <td>Asserts that two floats are equal concerning a...</td>\n      <td>&lt;!-- META {\"entityType\": \"Method\", \"entitySign...</td>\n      <td>&lt;!-- META {\"entityType\": \"Method\", \"entitySign...</td>\n      <td>0.945962</td>\n      <td>0</td>\n    </tr>\n    <tr>\n      <th>132472</th>\n      <td>Asserts that two arrays are equal, according t...</td>\n      <td>Asserts that two longs are equal. If they are ...</td>\n      <td>&lt;!-- META {\"entityType\": \"Method\", \"entitySign...</td>\n      <td>&lt;!-- META {\"entityType\": \"Method\", \"entitySign...</td>\n      <td>0.873534</td>\n      <td>0</td>\n    </tr>\n    <tr>\n      <th>132478</th>\n      <td>Asserts that two arrays are equal, according t...</td>\n      <td>Asserts that two doubles are equal to within a...</td>\n      <td>&lt;!-- META {\"entityType\": \"Method\", \"entitySign...</td>\n      <td>&lt;!-- META {\"entityType\": \"Method\", \"entitySign...</td>\n      <td>0.936256</td>\n      <td>0</td>\n    </tr>\n    <tr>\n      <th>132479</th>\n      <td>Asserts that two arrays are equal, according t...</td>\n      <td>Asserts that two floats are equal to within a ...</td>\n      <td>&lt;!-- META {\"entityType\": \"Method\", \"entitySign...</td>\n      <td>&lt;!-- META {\"entityType\": \"Method\", \"entitySign...</td>\n      <td>0.936256</td>\n      <td>0</td>\n    </tr>\n    <tr>\n      <th>132488</th>\n      <td>Asserts that two arrays are equal, according t...</td>\n      <td>Asserts that an object is null. If it is not, ...</td>\n      <td>&lt;!-- META {\"entityType\": \"Method\", \"entitySign...</td>\n      <td>&lt;!-- META {\"entityType\": \"Method\", \"entitySign...</td>\n      <td>0.722914</td>\n      <td>0</td>\n    </tr>\n    <tr>\n      <th>132490</th>\n      <td>Asserts that two arrays are equal, according t...</td>\n      <td>Asserts that two objects refer to the same obj...</td>\n      <td>&lt;!-- META {\"entityType\": \"Method\", \"entitySign...</td>\n      <td>&lt;!-- META {\"entityType\": \"Method\", \"entitySign...</td>\n      <td>0.994074</td>\n      <td>0</td>\n    </tr>\n    <tr>\n      <th>132495</th>\n      <td>Asserts that two arrays are equal, according t...</td>\n      <td>Asserts that two objects do not refer to the s...</td>\n      <td>&lt;!-- META {\"entityType\": \"Method\", \"entitySign...</td>\n      <td>&lt;!-- META {\"entityType\": \"Method\", \"entitySign...</td>\n      <td>0.926994</td>\n      <td>0</td>\n    </tr>\n    <tr>\n      <th>132649</th>\n      <td>Asserts that two arrays are equal, according t...</td>\n      <td>Asserts that two objects are equal. If they ar...</td>\n      <td>&lt;!-- META {\"entityType\": \"Method\", \"entitySign...</td>\n      <td>&lt;!-- META {\"entityType\": \"Method\", \"entitySign...</td>\n      <td>0.746993</td>\n      <td>0</td>\n    </tr>\n    <tr>\n      <th>132650</th>\n      <td>Asserts that two arrays are equal, according t...</td>\n      <td>Asserts that two doubles are equal concerning ...</td>\n      <td>&lt;!-- META {\"entityType\": \"Method\", \"entitySign...</td>\n      <td>&lt;!-- META {\"entityType\": \"Method\", \"entitySign...</td>\n      <td>0.945962</td>\n      <td>0</td>\n    </tr>\n    <tr>\n      <th>132652</th>\n      <td>Asserts that two arrays are equal, according t...</td>\n      <td>Asserts that two floats are equal concerning a...</td>\n      <td>&lt;!-- META {\"entityType\": \"Method\", \"entitySign...</td>\n      <td>&lt;!-- META {\"entityType\": \"Method\", \"entitySign...</td>\n      <td>0.945962</td>\n      <td>0</td>\n    </tr>\n    <tr>\n      <th>135457</th>\n      <td>Asserts that two objects are equal. If they ar...</td>\n      <td>Asserts that two object arrays are equal. If t...</td>\n      <td>&lt;!-- META {\"entityType\": \"Method\", \"entitySign...</td>\n      <td>&lt;!-- META {\"entityType\": \"Method\", \"entitySign...</td>\n      <td>0.954917</td>\n      <td>0</td>\n    </tr>\n    <tr>\n      <th>135481</th>\n      <td>Asserts that two objects are equal. If they ar...</td>\n      <td>Asserts that two byte arrays are equal. If the...</td>\n      <td>&lt;!-- META {\"entityType\": \"Method\", \"entitySign...</td>\n      <td>&lt;!-- META {\"entityType\": \"Method\", \"entitySign...</td>\n      <td>0.995108</td>\n      <td>0</td>\n    </tr>\n    <tr>\n      <th>135483</th>\n      <td>Asserts that two objects are equal. If they ar...</td>\n      <td>Asserts that two char arrays are equal. If the...</td>\n      <td>&lt;!-- META {\"entityType\": \"Method\", \"entitySign...</td>\n      <td>&lt;!-- META {\"entityType\": \"Method\", \"entitySign...</td>\n      <td>0.995286</td>\n      <td>0</td>\n    </tr>\n    <tr>\n      <th>135486</th>\n      <td>Asserts that two objects are equal. If they ar...</td>\n      <td>Asserts that two short arrays are equal. If th...</td>\n      <td>&lt;!-- META {\"entityType\": \"Method\", \"entitySign...</td>\n      <td>&lt;!-- META {\"entityType\": \"Method\", \"entitySign...</td>\n      <td>0.994290</td>\n      <td>0</td>\n    </tr>\n    <tr>\n      <th>135490</th>\n      <td>Asserts that two objects are equal. If they ar...</td>\n      <td>Asserts that two int arrays are equal. If they...</td>\n      <td>&lt;!-- META {\"entityType\": \"Method\", \"entitySign...</td>\n      <td>&lt;!-- META {\"entityType\": \"Method\", \"entitySign...</td>\n      <td>0.994135</td>\n      <td>0</td>\n    </tr>\n    <tr>\n      <th>135493</th>\n      <td>Asserts that two objects are equal. If they ar...</td>\n      <td>Asserts that two long arrays are equal. If the...</td>\n      <td>&lt;!-- META {\"entityType\": \"Method\", \"entitySign...</td>\n      <td>&lt;!-- META {\"entityType\": \"Method\", \"entitySign...</td>\n      <td>0.995296</td>\n      <td>0</td>\n    </tr>\n    <tr>\n      <th>135510</th>\n      <td>Asserts that two objects are equal. If they ar...</td>\n      <td>Asserts that two object arrays are equal. If t...</td>\n      <td>&lt;!-- META {\"entityType\": \"Method\", \"entitySign...</td>\n      <td>&lt;!-- META {\"entityType\": \"Method\", \"entitySign...</td>\n      <td>0.721091</td>\n      <td>0</td>\n    </tr>\n    <tr>\n      <th>135525</th>\n      <td>Asserts that two objects are equal. If they ar...</td>\n      <td>Asserts that two objects refer to the same obj...</td>\n      <td>&lt;!-- META {\"entityType\": \"Method\", \"entitySign...</td>\n      <td>&lt;!-- META {\"entityType\": \"Method\", \"entitySign...</td>\n      <td>0.741549</td>\n      <td>0</td>\n    </tr>\n    <tr>\n      <th>135545</th>\n      <td>Asserts that two objects are equal. If they ar...</td>\n      <td>Asserts that two objects refer to the same obj...</td>\n      <td>&lt;!-- META {\"entityType\": \"Method\", \"entitySign...</td>\n      <td>&lt;!-- META {\"entityType\": \"Method\", \"entitySign...</td>\n      <td>0.949772</td>\n      <td>0</td>\n    </tr>\n    <tr>\n      <th>135550</th>\n      <td>Asserts that two objects are equal. If they ar...</td>\n      <td>Asserts that two objects do not refer to the s...</td>\n      <td>&lt;!-- META {\"entityType\": \"Method\", \"entitySign...</td>\n      <td>&lt;!-- META {\"entityType\": \"Method\", \"entitySign...</td>\n      <td>0.615414</td>\n      <td>0</td>\n    </tr>\n    <tr>\n      <th>135719</th>\n      <td>Asserts that two objects are equal. If they ar...</td>\n      <td>Asserts that two objects refer to the same obj...</td>\n      <td>&lt;!-- META {\"entityType\": \"Method\", \"entitySign...</td>\n      <td>&lt;!-- META {\"entityType\": \"Method\", \"entitySign...</td>\n      <td>0.741549</td>\n      <td>0</td>\n    </tr>\n    <tr>\n      <th>142718</th>\n      <td>Runs the test case and collects the results in...</td>\n      <td>Run the tests for this runner.\\n @param notifi...</td>\n      <td>&lt;!-- META {\"entityType\": \"Method\", \"entitySign...</td>\n      <td>&lt;!-- META {\"entityType\": \"Method\", \"entitySign...</td>\n      <td>0.661629</td>\n      <td>0</td>\n    </tr>\n    <tr>\n      <th>177169</th>\n      <td>Constructs a Failure with the given descriptio...</td>\n      <td>Called when an atomic test flags that it assum...</td>\n      <td>&lt;!-- META {\"entityType\": \"Method\", \"entitySign...</td>\n      <td>&lt;!-- META {\"entityType\": \"Method\", \"entitySign...</td>\n      <td>0.773690</td>\n      <td>0</td>\n    </tr>\n  </tbody>\n</table>\n</div>"
     },
     "metadata": {},
     "execution_count": 4
    }
   ],
   "source": [
    "df_siam = pd.read_csv('data/up/SiamX2_labeled.csv', index_col=0)\n",
    "df_siam.loc[unique_siamx2]"
   ]
  }
 ]
}