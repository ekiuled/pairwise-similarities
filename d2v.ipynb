{
 "cells": [
  {
   "cell_type": "code",
   "execution_count": 2,
   "metadata": {
    "tags": []
   },
   "outputs": [
    {
     "output_type": "stream",
     "name": "stdout",
     "text": "Threshold = 0.4973, train accuracy = 0.7983\n"
    },
    {
     "output_type": "execute_result",
     "data": {
      "text/plain": "{'accuracy': 0.9402173913043478,\n 'f1': 0.9414893617021277,\n 'precision': 0.921875,\n 'roc': 0.9883107868620037,\n 'tp': 354,\n 'tn': 338,\n 'fp': 30,\n 'fn': 14}"
     },
     "metadata": {},
     "execution_count": 2
    }
   ],
   "source": [
    "from metrics import metrics\n",
    "from similarities.d2v import D2VSimilarity\n",
    "metrics.train_test(metrics.get_metrics)('data/train.csv', 'data/test.csv', D2VSimilarity(), True, 'D2V')"
   ]
  },
  {
   "cell_type": "code",
   "execution_count": 1,
   "metadata": {
    "tags": []
   },
   "outputs": [
    {
     "output_type": "stream",
     "name": "stderr",
     "text": "Using TensorFlow backend.\n"
    },
    {
     "output_type": "execute_result",
     "data": {
      "text/plain": "{'accuracy': 0.9103260869565217,\n 'precision': 0.8495370370370371,\n 'f1': 0.9175000000000001,\n 'tp': 367,\n 'tn': 303,\n 'fp': 65,\n 'fn': 1}"
     },
     "metadata": {},
     "execution_count": 1
    }
   ],
   "source": [
    "from metrics import x_feature_metrics\n",
    "from similarities.d2v import D2VSimilarity\n",
    "\n",
    "x_feature_metrics.lr_evaluate('data/train.csv', 'data/test.csv', D2VSimilarity(), 'D2V')"
   ]
  },
  {
   "cell_type": "code",
   "execution_count": 4,
   "metadata": {
    "tags": []
   },
   "outputs": [
    {
     "output_type": "stream",
     "name": "stdout",
     "text": "+-------------+------------+--------+-------------+------+------+------+------+\n| Algorithm   |   Accuracy |     F1 |   Precision |   TP |   TN |   FP |   FN |\n+=============+============+========+=============+======+======+======+======+\n| D2V         |     0.9402 | 0.9415 |      0.9219 |  354 |  338 |   30 |   14 |\n+-------------+------------+--------+-------------+------+------+------+------+\n| D2V +       |     0.9103 | 0.9175 |      0.8495 |  367 |  303 |   65 |    1 |\n+-------------+------------+--------+-------------+------+------+------+------+\n"
    }
   ],
   "source": [
    "from tabulate import tabulate\n",
    "\n",
    "plain_d = {'accuracy': 0.9402173913043478,\n",
    " 'f1': 0.9414893617021277,\n",
    " 'precision': 0.921875,\n",
    " 'roc': 0.9883107868620037,\n",
    " 'tp': 354,\n",
    " 'tn': 338,\n",
    " 'fp': 30,\n",
    " 'fn': 14}\n",
    "lr_d = {'accuracy': 0.9103260869565217,\n",
    " 'precision': 0.8495370370370371,\n",
    " 'f1': 0.9175000000000001,\n",
    " 'tp': 367,\n",
    " 'tn': 303,\n",
    " 'fp': 65,\n",
    " 'fn': 1}\n",
    "\n",
    "table = []\n",
    "headers = ['Algorithm', 'Accuracy', 'F1', 'Precision', 'TP', 'TN', 'FP', 'FN']\n",
    "name = 'D2V'\n",
    "for d, n in (plain_d, name), (lr_d, name+' +'):\n",
    "    table.append((n, d['accuracy'], d['f1'], d['precision'], d['tp'], d['tn'], d['fp'], d['fn']))\n",
    "print(tabulate(table, headers, tablefmt='grid', floatfmt='.4f'))"
   ]
  },
  {
   "cell_type": "code",
   "execution_count": 3,
   "metadata": {},
   "outputs": [],
   "source": [
    "import pandas as pd\n",
    "import numpy as np\n",
    "from similarities.d2v import D2VSimilarity\n",
    "\n",
    "df = pd.read_csv('data/test.csv', index_col=0, na_filter=False)\n",
    "X = list(zip(df.comment1, df.comment2))\n",
    "alg = D2VSimilarity()\n",
    "alg.load('D2V')\n",
    "scores = np.array(alg.run_similarity(X))\n",
    "predictions = alg.predict(scores)"
   ]
  },
  {
   "cell_type": "code",
   "execution_count": 7,
   "metadata": {},
   "outputs": [],
   "source": [
    "df.drop(columns=['name1', 'name2'], inplace=True)\n",
    "df.insert(5, 'prediction', predictions)\n",
    "df.insert(6, 'score', scores)\n",
    "df.sort_values(by='score', ascending=False, inplace=True)"
   ]
  },
  {
   "cell_type": "code",
   "execution_count": 9,
   "metadata": {},
   "outputs": [],
   "source": [
    "df.to_csv('data/doc2vec/test_scores.csv')"
   ]
  },
  {
   "cell_type": "code",
   "execution_count": 1,
   "metadata": {
    "tags": []
   },
   "outputs": [
    {
     "output_type": "stream",
     "name": "stdout",
     "text": "D2V 3555\n"
    }
   ],
   "source": [
    "import pandas as pd\n",
    "import numpy as np\n",
    "from similarities.d2v import D2VSimilarity\n",
    "\n",
    "df_up = pd.read_csv('data/unlabeled/junit4.csv', index_col=0, na_filter=False)\n",
    "X = list(zip(df_up.comment1, df_up.comment2))\n",
    "\n",
    "name = 'D2V'\n",
    "alg = D2VSimilarity()\n",
    "alg.load(name)\n",
    "\n",
    "scores = np.array(alg.run_similarity(X))\n",
    "predictions = alg.predict(scores)\n",
    "scores = scores[predictions == 1]\n",
    "df_up = df_up[predictions == 1]\n",
    "\n",
    "df_up.drop(columns=['label', 'name1', 'name2'], inplace=True)\n",
    "df_up.insert(4, 'score', scores)\n",
    "df_up.sort_values(by='score', ascending=False, inplace=True)\n",
    "df_up.to_csv('data/up/scores/' + name + '.csv')\n",
    "\n",
    "print(name, len(df_up.index))"
   ]
  },
  {
   "cell_type": "code",
   "execution_count": 4,
   "metadata": {},
   "outputs": [
    {
     "output_type": "execute_result",
     "data": {
      "text/plain": "       comment1  comment2  meta1  meta2  score\nlabel                                         \n-1         3168      3168   3168   3168   3168\n 0          219       219    219    219    219\n 1          168       168    168    168    168",
      "text/html": "<div>\n<style scoped>\n    .dataframe tbody tr th:only-of-type {\n        vertical-align: middle;\n    }\n\n    .dataframe tbody tr th {\n        vertical-align: top;\n    }\n\n    .dataframe thead th {\n        text-align: right;\n    }\n</style>\n<table border=\"1\" class=\"dataframe\">\n  <thead>\n    <tr style=\"text-align: right;\">\n      <th></th>\n      <th>comment1</th>\n      <th>comment2</th>\n      <th>meta1</th>\n      <th>meta2</th>\n      <th>score</th>\n    </tr>\n    <tr>\n      <th>label</th>\n      <th></th>\n      <th></th>\n      <th></th>\n      <th></th>\n      <th></th>\n    </tr>\n  </thead>\n  <tbody>\n    <tr>\n      <th>-1</th>\n      <td>3168</td>\n      <td>3168</td>\n      <td>3168</td>\n      <td>3168</td>\n      <td>3168</td>\n    </tr>\n    <tr>\n      <th>0</th>\n      <td>219</td>\n      <td>219</td>\n      <td>219</td>\n      <td>219</td>\n      <td>219</td>\n    </tr>\n    <tr>\n      <th>1</th>\n      <td>168</td>\n      <td>168</td>\n      <td>168</td>\n      <td>168</td>\n      <td>168</td>\n    </tr>\n  </tbody>\n</table>\n</div>"
     },
     "metadata": {},
     "execution_count": 4
    }
   ],
   "source": [
    "import pickle\n",
    "with open('data/up/accepted/all.pkl', 'rb') as f:\n",
    "    all = pickle.load(f)\n",
    "import pandas as pd\n",
    "df = pd.read_csv('data/up/scores/D2V.csv', index_col=0)\n",
    "labels = [int(i in all) for i in df.index]\n",
    "df.insert(5, 'label', labels)\n",
    "\n",
    "names = ['LCS', 'COS', 'LEV', 'LSH', 'WMD', 'SiamX']\n",
    "df_all = pd.concat([pd.read_csv('data/up/scores/'+name+'.csv', index_col=0) for name in names]).drop(columns=['score']).drop_duplicates()\n",
    "ix_all = df_all.index.values\n",
    "ix = df.index.values\n",
    "import numpy as np\n",
    "unique = np.setdiff1d(ix, ix_all)\n",
    "df.loc[unique, 'label'] = -1\n",
    "\n",
    "df.to_csv('data/up/D2V_labeled.csv')\n",
    "df.groupby('label').count()"
   ]
  },
  {
   "cell_type": "code",
   "execution_count": 1,
   "metadata": {
    "tags": []
   },
   "outputs": [
    {
     "output_type": "stream",
     "name": "stdout",
     "text": "Threshold = 0.4996, train accuracy = 0.7995\n"
    },
    {
     "output_type": "execute_result",
     "data": {
      "text/plain": "{'accuracy': 0.9415760869565217,\n 'f1': 0.9427430093209056,\n 'precision': 0.9242819843342036,\n 'roc': 0.9883772448015121,\n 'tp': 354,\n 'tn': 339,\n 'fp': 29,\n 'fn': 14}"
     },
     "metadata": {},
     "execution_count": 1
    }
   ],
   "source": [
    "from metrics import metrics\n",
    "from similarities.d2v import D2VSimilarity\n",
    "metrics.train_test(metrics.get_metrics)('data/train.csv', 'data/test.csv', D2VSimilarity(), True, 'D2V')"
   ]
  }
 ],
 "metadata": {
  "language_info": {
   "codemirror_mode": {
    "name": "ipython",
    "version": 3
   },
   "file_extension": ".py",
   "mimetype": "text/x-python",
   "name": "python",
   "nbconvert_exporter": "python",
   "pygments_lexer": "ipython3",
   "version": "3.8.2-final"
  },
  "orig_nbformat": 2,
  "kernelspec": {
   "name": "python_defaultSpec_1598386938559",
   "display_name": "Python 3.8.2 64-bit"
  }
 },
 "nbformat": 4,
 "nbformat_minor": 2
}