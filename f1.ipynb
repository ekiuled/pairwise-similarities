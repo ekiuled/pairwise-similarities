{
 "metadata": {
  "language_info": {
   "codemirror_mode": {
    "name": "ipython",
    "version": 3
   },
   "file_extension": ".py",
   "mimetype": "text/x-python",
   "name": "python",
   "nbconvert_exporter": "python",
   "pygments_lexer": "ipython3",
   "version": "3.8.5-final"
  },
  "orig_nbformat": 2,
  "kernelspec": {
   "name": "python_defaultSpec_1599820767457",
   "display_name": "Python 3.8.5 64-bit"
  }
 },
 "nbformat": 4,
 "nbformat_minor": 2,
 "cells": [
  {
   "cell_type": "code",
   "execution_count": 1,
   "metadata": {
    "tags": []
   },
   "outputs": [
    {
     "output_type": "stream",
     "name": "stderr",
     "text": "Using TensorFlow backend.\nThreshold = 0.5833, train accuracy = 0.9696\nThreshold = 0.7762, train accuracy = 0.9269\nThreshold = 0.4439, train accuracy = 0.9122\nThreshold = 0.0600, train accuracy = 0.9600\nThreshold = 0.7105, train accuracy = 0.9299\nThreshold = -8.7397, train accuracy = 0.9555\nThreshold = 0.9008, train accuracy = 0.9899\n+-------------+------------+-------------+----------+------+-------+------+------+------+------+\n| Algorithm   |   Accuracy |   Precision |   Recall |   F1 |   ROC |   TP |   TN |   FP |   FN |\n+=============+============+=============+==========+======+=======+======+======+======+======+\n| LCS         |       0.95 |        0.98 |     0.92 | 0.95 |  1.00 |  339 |  360 |    8 |   29 |\n+-------------+------------+-------------+----------+------+-------+------+------+------+------+\n| COS         |       0.89 |        0.99 |     0.79 | 0.88 |  0.99 |  289 |  366 |    2 |   79 |\n+-------------+------------+-------------+----------+------+-------+------+------+------+------+\n| LEV         |       0.94 |        0.94 |     0.93 | 0.94 |  0.98 |  344 |  347 |   21 |   24 |\n+-------------+------------+-------------+----------+------+-------+------+------+------+------+\n| LSH         |       0.94 |        0.97 |     0.92 | 0.94 |  0.98 |  338 |  357 |   11 |   30 |\n+-------------+------------+-------------+----------+------+-------+------+------+------+------+\n| D2VK        |       0.95 |        0.97 |     0.94 | 0.95 |  0.99 |  346 |  356 |   12 |   22 |\n+-------------+------------+-------------+----------+------+-------+------+------+------+------+\n| WMDK        |       0.93 |        0.98 |     0.88 | 0.93 |  1.00 |  323 |  363 |    5 |   45 |\n+-------------+------------+-------------+----------+------+-------+------+------+------+------+\n| SiamX2      |       0.92 |        0.95 |     0.88 | 0.92 |  0.98 |  325 |  352 |   16 |   43 |\n+-------------+------------+-------------+----------+------+-------+------+------+------+------+\n"
    }
   ],
   "source": [
    "from helpers.similarity_generator import get_algorithm_by_name\n",
    "from metrics import metrics\n",
    "import pandas as pd\n",
    "from tabulate import tabulate\n",
    "\n",
    "stats = {}\n",
    "table = []\n",
    "headers = ['Algorithm', 'Accuracy', 'Precision', 'Recall', 'F1', 'ROC', 'TP', 'TN', 'FP', 'FN']\n",
    "\n",
    "for name in ['LCS', 'COS', 'LEV', 'LSH', 'D2VK', 'WMDK']:\n",
    "    alg = get_algorithm_by_name(name)\n",
    "    s = metrics.train_test(metrics.get_metrics)('data/train.csv', 'data/test.csv', alg, True, name)\n",
    "    stats[name] = s\n",
    "    table.append((name, s['accuracy'], s['precision'], s['recall'], s['f1'], s['roc'], s['tp'], s['tn'], s['fp'], s['fn']))\n",
    "\n",
    "name = 'SiamX2'\n",
    "siamx = get_algorithm_by_name(name)\n",
    "df_train = pd.read_csv('data/train.csv', index_col=0)\n",
    "df_test = pd.read_csv('data/test.csv', index_col=0)\n",
    "siamx.train(df_train, True, name)\n",
    "y_pred = siamx.run_similarity(df_test)\n",
    "y_test = df_test['label'].to_numpy()\n",
    "s = metrics.get_metrics(siamx, y_test, y_pred)\n",
    "stats[name] = s\n",
    "table.append((name, s['accuracy'], s['precision'], s['recall'], s['f1'], s['roc'], s['tp'], s['tn'], s['fp'], s['fn']))\n",
    "\n",
    "print(tabulate(table, headers, tablefmt='grid', floatfmt='.2f'))"
   ]
  }
 ]
}