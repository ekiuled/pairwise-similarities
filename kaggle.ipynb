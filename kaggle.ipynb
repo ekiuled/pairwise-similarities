{
 "cells": [
  {
   "cell_type": "code",
   "execution_count": 3,
   "metadata": {
    "tags": []
   },
   "outputs": [
    {
     "output_type": "stream",
     "name": "stdout",
     "text": "/home/cthfvrl/Code/pairwise-similarities\n"
    }
   ],
   "source": [
    "%cd /home/cthfvrl/Code/pairwise-similarities/\n",
    "import pandas as pd \n",
    "kek = pd.read_csv('data/kaggle/code.csv', usecols=['doc'], lineterminator='\\n')"
   ]
  },
  {
   "cell_type": "code",
   "execution_count": 30,
   "metadata": {
    "tags": []
   },
   "outputs": [
    {
     "output_type": "stream",
     "name": "stdout",
     "text": "/home/cthfvrl/Code/pairwise-similarities\n"
    }
   ],
   "source": [
    "%cd /home/cthfvrl/Code/pairwise-similarities/\n",
    "import pandas as pd \n",
    "reader = pd.read_csv('data/kaggle/code.csv', chunksize=10**5, usecols=['doc'], lineterminator='\\n')"
   ]
  },
  {
   "cell_type": "code",
   "execution_count": 26,
   "metadata": {
    "tags": []
   },
   "outputs": [
    {
     "output_type": "stream",
     "name": "stdout",
     "text": "3417339\n"
    }
   ],
   "source": [
    "size = 0\n",
    "for chunk in reader:\n",
    "    comments = list(map(text_to_word_sequence, comments))\n",
    "    size += chunk.size\n",
    "print(size)"
   ]
  },
  {
   "cell_type": "code",
   "execution_count": 49,
   "metadata": {},
   "outputs": [],
   "source": [
    "from keras.preprocessing.text import text_to_word_sequence\n",
    "from gensim.models import Word2Vec\n",
    "df = reader.get_chunk(100)\n",
    "comments = list(map(text_to_word_sequence, df['doc']))"
   ]
  },
  {
   "cell_type": "code",
   "execution_count": 50,
   "metadata": {},
   "outputs": [],
   "source": [
    "word2vec = Word2Vec(comments, min_count=1, size=50)"
   ]
  },
  {
   "cell_type": "code",
   "execution_count": 55,
   "metadata": {},
   "outputs": [
    {
     "output_type": "execute_result",
     "data": {
      "text/plain": "-0.010170364950150551"
     },
     "metadata": {},
     "execution_count": 55
    }
   ],
   "source": [
    "X = \"Asserts that two doubles are equal to within a positive delta.\\\n",
    " If they are not, an AssertionError is thrown with the given\\\n",
    " message. If the expected value is infinity then the delta value is\\\n",
    " ignored. NaNs are considered equal:\\\n",
    " assertEquals(Double.NaN, Double.NaN, *) passes\\\n",
    " @param message the identifying message for the AssertionError (null\\\n",
    " okay)\\\n",
    " @param expected expected value\\\n",
    " @param actual the value to check against expected\\\n",
    " @param delta the maximum delta between expected and\\\n",
    " actual for which both numbers are still\\\n",
    " considered equal.\"\n",
    "Y = \"Asserts that two floats are equal to within a positive delta.\\\n",
    " If they are not, an AssertionError is thrown. If the expected\\\n",
    " value is infinity then the delta value is ignored. NaNs are considered\\\n",
    " equal: assertEquals(Float.NaN, Float.NaN, *) passes\\\n",
    " @param expected expected value\\\n",
    " @param actual the value to check against expected\\\n",
    " @param delta the maximum delta between expected and\\\n",
    " actual for which both numbers are still\\\n",
    " considered equal.\"\n",
    "x = text_to_word_sequence(X)\n",
    "y = text_to_word_sequence(Y)\n",
    "-word2vec.wv.wmdistance(x, y)"
   ]
  },
  {
   "cell_type": "code",
   "execution_count": 58,
   "metadata": {},
   "outputs": [
    {
     "output_type": "execute_result",
     "data": {
      "text/plain": "[-1.1024208237343307]"
     },
     "metadata": {},
     "execution_count": 58
    }
   ],
   "source": [
    "from helpers import similarity_generator\n",
    "wmd = similarity_generator.get_algorithm_by_name('WMD', True)\n",
    "wmd.run_similarity([[X, Y]])"
   ]
  },
  {
   "cell_type": "code",
   "execution_count": 1,
   "metadata": {
    "tags": []
   },
   "outputs": [
    {
     "output_type": "stream",
     "name": "stderr",
     "text": "Using TensorFlow backend.\nThreshold = -5.9023, train accuracy = 0.9553\n"
    },
    {
     "output_type": "execute_result",
     "data": {
      "text/plain": "{'accuracy': 0.9347826086956522,\n 'f1': 0.9312320916905444,\n 'precision': 0.9848484848484849,\n 'roc': 0.9959312972589792,\n 'tp': 325,\n 'tn': 363,\n 'fp': 5,\n 'fn': 43}"
     },
     "metadata": {},
     "execution_count": 1
    }
   ],
   "source": [
    "from metrics import metrics\n",
    "from similarities.wmdk import WMDKSimilarity\n",
    "metrics.train_test(metrics.get_metrics)('data/train.csv', 'data/test.csv', WMDKSimilarity(), True, 'WMDK')"
   ]
  },
  {
   "cell_type": "code",
   "execution_count": 2,
   "metadata": {},
   "outputs": [
    {
     "output_type": "execute_result",
     "data": {
      "text/plain": "{'accuracy': 0.9646739130434783,\n 'precision': 0.9803370786516854,\n 'f1': 0.9640883977900553,\n 'tp': 349,\n 'tn': 361,\n 'fp': 7,\n 'fn': 19}"
     },
     "metadata": {},
     "execution_count": 2
    }
   ],
   "source": [
    "from metrics import x_feature_metrics\n",
    "\n",
    "x_feature_metrics.lr_evaluate('data/train.csv', 'data/test.csv', WMDKSimilarity(), 'WMDK')"
   ]
  },
  {
   "cell_type": "code",
   "execution_count": 1,
   "metadata": {
    "tags": []
   },
   "outputs": [
    {
     "output_type": "stream",
     "name": "stderr",
     "text": "Using TensorFlow backend.\nThreshold = -8.7397, train accuracy = 0.9553\n"
    },
    {
     "output_type": "execute_result",
     "data": {
      "text/plain": "{'accuracy': 0.9320652173913043,\n 'f1': 0.92816091954023,\n 'precision': 0.9847560975609756,\n 'roc': 0.9955030127599244,\n 'tp': 323,\n 'tn': 363,\n 'fp': 5,\n 'fn': 45}"
     },
     "metadata": {},
     "execution_count": 1
    }
   ],
   "source": [
    "from metrics import metrics\n",
    "from similarities.wmdk import WMDKSimilarity\n",
    "metrics.train_test(metrics.get_metrics)('data/train.csv', 'data/test.csv', WMDKSimilarity(), True, 'WMDK')"
   ]
  },
  {
   "cell_type": "code",
   "execution_count": 2,
   "metadata": {},
   "outputs": [
    {
     "output_type": "execute_result",
     "data": {
      "text/plain": "{'accuracy': 0.9633152173913043,\n 'precision': 0.9802816901408451,\n 'f1': 0.9626556016597511,\n 'tp': 348,\n 'tn': 361,\n 'fp': 7,\n 'fn': 20}"
     },
     "metadata": {},
     "execution_count": 2
    }
   ],
   "source": [
    "from metrics import x_feature_metrics\n",
    "\n",
    "x_feature_metrics.lr_evaluate('data/train.csv', 'data/test.csv', WMDKSimilarity(), 'WMDK')"
   ]
  },
  {
   "cell_type": "code",
   "execution_count": 1,
   "metadata": {
    "tags": []
   },
   "outputs": [
    {
     "output_type": "stream",
     "name": "stdout",
     "text": "+-------------+------------+--------+-------------+------+------+------+------+\n| Algorithm   |   Accuracy |     F1 |   Precision |   TP |   TN |   FP |   FN |\n+=============+============+========+=============+======+======+======+======+\n| WMDK        |     0.9321 | 0.9282 |      0.9848 |  323 |  363 |    5 |   45 |\n+-------------+------------+--------+-------------+------+------+------+------+\n| WMDK +      |     0.9633 | 0.9627 |      0.9803 |  348 |  361 |    7 |   20 |\n+-------------+------------+--------+-------------+------+------+------+------+\n"
    }
   ],
   "source": [
    "from tabulate import tabulate\n",
    "\n",
    "plain_d = {'accuracy': 0.9320652173913043,\n",
    " 'f1': 0.92816091954023,\n",
    " 'precision': 0.9847560975609756,\n",
    " 'roc': 0.9955030127599244,\n",
    " 'tp': 323,\n",
    " 'tn': 363,\n",
    " 'fp': 5,\n",
    " 'fn': 45}\n",
    "lr_d = {'accuracy': 0.9633152173913043,\n",
    " 'precision': 0.9802816901408451,\n",
    " 'f1': 0.9626556016597511,\n",
    " 'tp': 348,\n",
    " 'tn': 361,\n",
    " 'fp': 7,\n",
    " 'fn': 20}\n",
    "\n",
    "table = []\n",
    "headers = ['Algorithm', 'Accuracy', 'F1', 'Precision', 'TP', 'TN', 'FP', 'FN']\n",
    "name = 'WMDK'\n",
    "for d, n in (plain_d, name), (lr_d, name+' +'):\n",
    "    table.append((n, d['accuracy'], d['f1'], d['precision'], d['tp'], d['tn'], d['fp'], d['fn']))\n",
    "print(tabulate(table, headers, tablefmt='grid', floatfmt='.4f'))"
   ]
  },
  {
   "cell_type": "code",
   "execution_count": 2,
   "metadata": {},
   "outputs": [
    {
     "output_type": "error",
     "ename": "NameError",
     "evalue": "name 'df' is not defined",
     "traceback": [
      "\u001b[0;31m---------------------------------------------------------------------------\u001b[0m",
      "\u001b[0;31mNameError\u001b[0m                                 Traceback (most recent call last)",
      "\u001b[0;32m<ipython-input-2-8bcc40e992e9>\u001b[0m in \u001b[0;36m<module>\u001b[0;34m\u001b[0m\n\u001b[1;32m     11\u001b[0m \u001b[0mscores\u001b[0m \u001b[0;34m=\u001b[0m \u001b[0mscores\u001b[0m\u001b[0;34m[\u001b[0m\u001b[0mpredictions\u001b[0m \u001b[0;34m==\u001b[0m \u001b[0;36m1\u001b[0m\u001b[0;34m]\u001b[0m\u001b[0;34m\u001b[0m\u001b[0;34m\u001b[0m\u001b[0m\n\u001b[1;32m     12\u001b[0m \u001b[0mscores\u001b[0m \u001b[0;34m=\u001b[0m \u001b[0mscores\u001b[0m\u001b[0;34m[\u001b[0m\u001b[0;34m:\u001b[0m\u001b[0;34m,\u001b[0m \u001b[0;36m1\u001b[0m\u001b[0;34m]\u001b[0m\u001b[0;34m\u001b[0m\u001b[0;34m\u001b[0m\u001b[0m\n\u001b[0;32m---> 13\u001b[0;31m \u001b[0mdf_up\u001b[0m \u001b[0;34m=\u001b[0m \u001b[0mdf\u001b[0m\u001b[0;34m[\u001b[0m\u001b[0mpredictions\u001b[0m \u001b[0;34m==\u001b[0m \u001b[0;36m1\u001b[0m\u001b[0;34m]\u001b[0m\u001b[0;34m\u001b[0m\u001b[0;34m\u001b[0m\u001b[0m\n\u001b[0m\u001b[1;32m     14\u001b[0m \u001b[0mdf_up\u001b[0m\u001b[0;34m.\u001b[0m\u001b[0mdrop\u001b[0m\u001b[0;34m(\u001b[0m\u001b[0mcolumns\u001b[0m\u001b[0;34m=\u001b[0m\u001b[0;34m[\u001b[0m\u001b[0;34m'label'\u001b[0m\u001b[0;34m,\u001b[0m \u001b[0;34m'name1'\u001b[0m\u001b[0;34m,\u001b[0m \u001b[0;34m'name2'\u001b[0m\u001b[0;34m]\u001b[0m\u001b[0;34m,\u001b[0m \u001b[0minplace\u001b[0m\u001b[0;34m=\u001b[0m\u001b[0;32mTrue\u001b[0m\u001b[0;34m)\u001b[0m\u001b[0;34m\u001b[0m\u001b[0;34m\u001b[0m\u001b[0m\n\u001b[1;32m     15\u001b[0m \u001b[0mdf_up\u001b[0m\u001b[0;34m.\u001b[0m\u001b[0minsert\u001b[0m\u001b[0;34m(\u001b[0m\u001b[0;36m4\u001b[0m\u001b[0;34m,\u001b[0m \u001b[0;34m'score'\u001b[0m\u001b[0;34m,\u001b[0m \u001b[0mscores\u001b[0m\u001b[0;34m)\u001b[0m\u001b[0;34m\u001b[0m\u001b[0;34m\u001b[0m\u001b[0m\n",
      "\u001b[0;31mNameError\u001b[0m: name 'df' is not defined"
     ]
    }
   ],
   "source": [
    "from helpers.similarity_generator import get_algorithm_by_name\n",
    "from pipeline import ml\n",
    "\n",
    "name = 'WMDK'\n",
    "alg = get_algorithm_by_name(name, True)\n",
    "model = ml.logistic_regression_train('data/train.csv', alg)\n",
    "X, _ = ml.extract_features('data/unlabeled/junit4.csv', alg)\n",
    "\n",
    "predictions = model.predict(X)\n",
    "scores = model.predict_proba(X)\n",
    "scores = scores[predictions == 1]\n",
    "scores = scores[:, 1]"
   ]
  },
  {
   "cell_type": "code",
   "execution_count": 4,
   "metadata": {
    "tags": []
   },
   "outputs": [
    {
     "output_type": "stream",
     "name": "stdout",
     "text": "WMDK 98\n"
    }
   ],
   "source": [
    "import pandas as pd\n",
    "df = pd.read_csv('data/unlabeled/junit4.csv', index_col=0, na_filter=False)\n",
    "df_up = df[predictions == 1]\n",
    "df_up.drop(columns=['label', 'name1', 'name2'], inplace=True)\n",
    "df_up.insert(4, 'score', scores)\n",
    "df_up.sort_values(by='score', ascending=False, inplace=True)\n",
    "df_up.to_csv('data/up/scores/' + name + '.csv')\n",
    "\n",
    "print(name, len(df_up.index))"
   ]
  },
  {
   "cell_type": "code",
   "execution_count": 5,
   "metadata": {},
   "outputs": [
    {
     "output_type": "execute_result",
     "data": {
      "text/plain": "       comment1  comment2  meta1  meta2  score\nlabel                                         \n0             5         5      5      5      5\n1            93        93     93     93     93",
      "text/html": "<div>\n<style scoped>\n    .dataframe tbody tr th:only-of-type {\n        vertical-align: middle;\n    }\n\n    .dataframe tbody tr th {\n        vertical-align: top;\n    }\n\n    .dataframe thead th {\n        text-align: right;\n    }\n</style>\n<table border=\"1\" class=\"dataframe\">\n  <thead>\n    <tr style=\"text-align: right;\">\n      <th></th>\n      <th>comment1</th>\n      <th>comment2</th>\n      <th>meta1</th>\n      <th>meta2</th>\n      <th>score</th>\n    </tr>\n    <tr>\n      <th>label</th>\n      <th></th>\n      <th></th>\n      <th></th>\n      <th></th>\n      <th></th>\n    </tr>\n  </thead>\n  <tbody>\n    <tr>\n      <th>0</th>\n      <td>5</td>\n      <td>5</td>\n      <td>5</td>\n      <td>5</td>\n      <td>5</td>\n    </tr>\n    <tr>\n      <th>1</th>\n      <td>93</td>\n      <td>93</td>\n      <td>93</td>\n      <td>93</td>\n      <td>93</td>\n    </tr>\n  </tbody>\n</table>\n</div>"
     },
     "metadata": {},
     "execution_count": 5
    }
   ],
   "source": [
    "import pickle\n",
    "with open('data/up/accepted/all.pkl', 'rb') as f:\n",
    "    all = pickle.load(f)\n",
    "import pandas as pd\n",
    "df = pd.read_csv('data/up/scores/WMDK.csv', index_col=0)\n",
    "labels = [int(i in all) for i in df.index]\n",
    "df.insert(5, 'label', labels)\n",
    "\n",
    "names = ['LCS', 'COS', 'LEV', 'LSH', 'WMD', 'SiamX']\n",
    "df_all = pd.concat([pd.read_csv('data/up/scores/'+name+'.csv', index_col=0) for name in names]).drop(columns=['score']).drop_duplicates()\n",
    "ix_all = df_all.index.values\n",
    "ix = df.index.values\n",
    "import numpy as np\n",
    "unique = np.setdiff1d(ix, ix_all)\n",
    "df.loc[unique, 'label'] = -1\n",
    "\n",
    "df.to_csv('data/up/WMDK_labeled.csv')\n",
    "df.groupby('label').count()"
   ]
  }
 ],
 "metadata": {
  "language_info": {
   "codemirror_mode": {
    "name": "ipython",
    "version": 3
   },
   "file_extension": ".py",
   "mimetype": "text/x-python",
   "name": "python",
   "nbconvert_exporter": "python",
   "pygments_lexer": "ipython3",
   "version": "3.8.2-final"
  },
  "orig_nbformat": 2,
  "kernelspec": {
   "name": "python_defaultSpec_1598394514987",
   "display_name": "Python 3.8.2 64-bit"
  }
 },
 "nbformat": 4,
 "nbformat_minor": 2
}